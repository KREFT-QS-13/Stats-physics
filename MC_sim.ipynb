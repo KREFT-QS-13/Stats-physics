{
 "cells": [
  {
   "attachments": {},
   "cell_type": "markdown",
   "metadata": {},
   "source": [
    "## Model Isinga - symulacja Monte Carlo\n",
    "\n",
    "projekt zaliczeniowy"
   ]
  },
  {
   "attachments": {},
   "cell_type": "markdown",
   "metadata": {},
   "source": [
    "Założenia: brak"
   ]
  },
  {
   "cell_type": "code",
   "execution_count": 5,
   "metadata": {},
   "outputs": [],
   "source": [
    "import numpy as np\n",
    "import matplotlib.pyplot as plt\n",
    "import matplotlib.cm as cm\n",
    "import scienceplots\n",
    "import numba\n",
    "from numba import njit\n",
    "from scipy.ndimage import convolve, generate_binary_structure\n",
    "import matplotlib.animation as animation\n",
    "from matplotlib.animation import PillowWriter\n",
    "\n",
    "plt.style.use(['science','notebook', 'grid'])"
   ]
  },
  {
   "cell_type": "code",
   "execution_count": 80,
   "metadata": {},
   "outputs": [],
   "source": [
    "class Ising():\n",
    "    ''' Symulacja modelu Isinga '''    \n",
    "    \n",
    "    def __init__(self, N=10, temp=0.4, J=1):\n",
    "        self.N = N\n",
    "        self.temp = temp\n",
    "        self.J = J\n",
    "        \n",
    "    def MetropolisMove(self, config, N, beta):\n",
    "        ''' Krok metody Monte Carlo przy pomocy \n",
    "        algorytmu Metropolis '''\n",
    "        for i in range(N):\n",
    "            for j in range(N):            \n",
    "                # wybór lsowego spinu z sieci\n",
    "                a = np.random.randint(0,N)\n",
    "                b = np.random.randint(0,N)\n",
    "                spin_i =  config[a, b] # początkiowy spin\n",
    "       \n",
    "                # Energia\n",
    "                nb = config[(a+1)%N,b] + config[a,(b+1)%N] + config[(a-1)%N,b] + config[a,(b-1)%N]\n",
    "                dE = 2*nb*spin_i\n",
    "                \n",
    "                # if (dE < 0) or (np.rand() < np.exp(-dE*beta)):\t\n",
    "                #     spin_i *= -1 # obracanie spinu\n",
    "\n",
    "                if (dE < 0):\t\n",
    "                    spin_i *= -1 # obracanie spinu\n",
    "                elif np.random.random() < np.exp(-dE*beta):\n",
    "                    spin_i *= -1 # obracanie spinu\n",
    "\n",
    "                config[a, b] = spin_i\n",
    "        return config\n",
    "    \n",
    "    def GetMagnetization(self, config):\n",
    "        return np.sum(config)/len(config)**2\n",
    "\n",
    "    def GetEnergy(self, config):\n",
    "        '''Energia układu w danym stanie, spiny jedynie oddziałyywują w pierwszej strefie kordynacyjnej'''\n",
    "        N = len(config)\n",
    "        energy = 0\n",
    "        lattice_energy = np.zeros(config.shape)\n",
    "        for i in range(len(config)):\n",
    "            for j in range(len(config)):\n",
    "                S = config[i,j]\n",
    "                nb = config[(i+1)%N, j] + config[i,(j+1)%N] + config[(i-1)%N, j] + config[i,(j-1)%N]\n",
    "                energy += -self.J*nb*S\n",
    "                lattice_energy[i,j] = -self.J*nb*S\n",
    "        return energy/4., lattice_energy \n",
    "\n",
    "    def IsConfigStable(self, config):\n",
    "        return np.abs(self.GetEnergy(config)[0]) == np.size(config)\n",
    "\n",
    "    def simulate(self):   \n",
    "        ''' Faktyczna symulacja'''\n",
    "        config = 2*np.random.randint(2, size=(self.N, self.N))-1\n",
    "        fig, ax = plt.subplots(figsize=(10, 10), dpi=80)\n",
    "\n",
    "        ims = []\n",
    "        for i in range(1000):\n",
    "            self.MetropolisMove(config, self.N, 1.0/self.temp)\n",
    "            \n",
    "            ax.spines['bottom'].set_color('0.5')\n",
    "            ax.spines['top'].set_color('0.5')\n",
    "            ax.spines['right'].set_color('0.5')\n",
    "            ax.spines['left'].set_color('0.5')\n",
    "            plt.axis('off')\n",
    "            im = ax.imshow(config, interpolation='nearest', cmap=cm.gray, animated=True)\n",
    "            ttl = plt.text(0.5, 1.01, \"Krok: \"+str(i)+\"  N=\"+str(self.N), \n",
    "                        horizontalalignment='center', \n",
    "                        verticalalignment='bottom', \n",
    "                        transform=ax.transAxes,\n",
    "                        fontsize='xx-large')\n",
    "\n",
    "            # if self.IsConfigStable(config):\n",
    "            #     break\n",
    "            \n",
    "            ims.append([im, ttl])\n",
    "\n",
    "    \n",
    "        animation.ArtistAnimation(fig, ims, \n",
    "                                  interval=180, \n",
    "                                  blit=True,\n",
    "                                  repeat_delay=1000).save(\"Sims\\Ising\"+str(self.N)+\".gif\")\n",
    "\n"
   ]
  },
  {
   "cell_type": "code",
   "execution_count": 81,
   "metadata": {},
   "outputs": [],
   "source": [
    "rm = Ising()"
   ]
  },
  {
   "cell_type": "code",
   "execution_count": 82,
   "metadata": {},
   "outputs": [
    {
     "name": "stderr",
     "output_type": "stream",
     "text": [
      "MovieWriter ffmpeg unavailable; using Pillow instead.\n"
     ]
    },
    {
     "data": {
      "image/png": "[encoded data removed]",
      "text/plain": [
       "<Figure size 800x800 with 1 Axes>"
      ]
     },
     "metadata": {
      "needs_background": "light"
     },
     "output_type": "display_data"
    }
   ],
   "source": [
    "rm.simulate()"
   ]
  }
 ],
 "metadata": {
  "kernelspec": {
   "display_name": "base",
   "language": "python",
   "name": "python3"
  },
  "language_info": {
   "codemirror_mode": {
    "name": "ipython",
    "version": 3
   },
   "file_extension": ".py",
   "mimetype": "text/x-python",
   "name": "python",
   "nbconvert_exporter": "python",
   "pygments_lexer": "ipython3",
   "version": "3.9.12"
  },
  "orig_nbformat": 4,
  "vscode": {
   "interpreter": {
    "hash": "f09c37bc2119028be73e33a25ce42dd5fe835ccb3d3d879534f9c59f319984a4"
   }
  }
 },
 "nbformat": 4,
 "nbformat_minor": 2
}
