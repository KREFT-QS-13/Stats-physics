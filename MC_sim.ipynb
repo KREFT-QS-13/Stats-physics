{
 "cells": [
  {
   "attachments": {},
   "cell_type": "markdown",
   "metadata": {},
   "source": [
    "## Model Isinga - symulacja Monte Carlo\n",
    "autor: Bartosz Kreft (418184)"
   ]
  },
  {
   "attachments": {},
   "cell_type": "markdown",
   "metadata": {},
   "source": [
    "Model Isinga, znany również jako model magnetyczny Isinga, to prosty model matematyczny stosowany w fizyce statystycznej do opisania układów o spinie, takich jak magnetyki. Model ten został opracowany przez niemieckiego fizyka Ernsta Isinga w 1925 roku i od tego czasu znalazł szerokie zastosowanie w różnych dziedzinach nauki.\n",
    "\n",
    "W modelu Isinga zakłada się, że spiny oddziałują jedynie ze swoimi najbliższymi sąsiadami. Wpływ tych oddziaływań jest opisywany przez parametr zwany siłą oddziaływania lub stałą sprzężenia. \n",
    "\n",
    "Rozmatrujemy spiny rozłożone na sieci kwadratowej o torusowych własnościach brzegowych. Spiny mogą przyjmować jedno z dwóch możliwych stanów: \n",
    "* \"góra\" (+1, $\\uparrow$)\n",
    "* \"dół\" (-1, $\\downarrow$).\n",
    "\n",
    "Spinami można interpretować na przykład atomowe magnesy, w których kierunek magnetyzacji może być skierowany w górę lub w dół. W zależności od kontekstu, spins mogą również reprezentować inne obiekty, takie jak cząsteczki w ciele stałym. Pełny hamniltonian układu ma postać:\n",
    "\n",
    "$$\\begin{equation*}\n",
    " \\mathcal{H} = -J\\sum_{\\langle i,j \\rangle}S_iS_j-H\\sum_{i=1}^NS_i \\;,\n",
    "\\end{equation*}$$\n",
    "gdzie $S_i, S_j$ to wartości sąsiednich spinów w sieci, $N$ to wymiar sieci, parametr $H$ jest związany gdy w modelu występuje zewnętrzna. Natomiast parametr $J$ odpowiada za siłę oddziaływań pomiędzy sąsiednimi spinami:\n",
    "* $J>0$ - ferromagnetyczne (ustawia spiny w jednym kierunku, przeciwnym do zewnętrznego pola),\n",
    "* $J<0$ - antyferromagnetyczne,\n",
    "* $J=0$ - para spinów nie oddziałuje ze sobą.\n",
    "\n",
    "Podstawowym celem modelu Isinga jest opisanie termodynamicznych właściwości układu spinów, takich jak temperatura krytyczna, magnetyzacja czy energia swobodna. Istnieją różne metody matematyczne i numeryczne, takie jak metoda Monte Carlo, które pozwalają na analizę i symulację modelu Isinga w celu zrozumienia zachowania układu w różnych warunkach.\n",
    "\n",
    "Model Isinga ma zastosowanie w wielu dziedzinach nauki, w tym w fizyce ciała stałego, fizyce statystycznej, teorii pola, naukach przyrodniczych i informatyce. Jego prostota i jednocześnie zdolność do opisywania złożonych zachowań czynią go popularnym narzędziem badawczym w różnych dziedzinach nauki."
   ]
  },
  {
   "attachments": {},
   "cell_type": "markdown",
   "metadata": {},
   "source": [
    "### Założenia symulacji\n",
    "W przedstawionej symulacji zakładamy, że $H=0$, czyli układ nieoddziaływuje z zewnętrznym polem magnetycznym oraz spiny przy krawędziach oddziaływują ze spinami z drugiej krawędzi, tak aby interakcje pomiędzy spianmi były zgodne z geometrią torusa."
   ]
  },
  {
   "cell_type": "code",
   "execution_count": 2,
   "metadata": {},
   "outputs": [],
   "source": [
    "import numpy as np\n",
    "import matplotlib.pyplot as plt\n",
    "import matplotlib.cm as cm\n",
    "import scienceplots\n",
    "import numba\n",
    "from numba import njit\n",
    "from scipy.ndimage import convolve, generate_binary_structure\n",
    "import matplotlib.animation as animation\n",
    "from matplotlib.animation import PillowWriter\n",
    "\n",
    "plt.style.use(['science','notebook', 'grid'])"
   ]
  },
  {
   "cell_type": "code",
   "execution_count": 3,
   "metadata": {},
   "outputs": [],
   "source": [
    "class Ising():\n",
    "    ''' Symulacja modelu Isinga '''    \n",
    "    \n",
    "    def __init__(self, N=10, temp=0.4, J=1, NIter=1000):\n",
    "        self.N = N\n",
    "        self.temp = temp\n",
    "        self.J = J\n",
    "        self.NIter = NIter\n",
    "        self.init_config = np.zeros((N, N))\n",
    "        \n",
    "    def MetropolisMove(self, config, N, beta):\n",
    "        ''' Krok metody Monte Carlo przy pomocy \n",
    "        algorytmu Metropolis '''\n",
    "        for i in range(N):\n",
    "            for j in range(N):            \n",
    "                # wybór lsowego spinu z sieci\n",
    "                a = np.random.randint(0,N)\n",
    "                b = np.random.randint(0,N)\n",
    "                spin_i =  config[a, b] # początkiowy spin\n",
    "       \n",
    "                # Energia\n",
    "                nb = config[(a+1)%N,b] + config[a,(b+1)%N] + config[(a-1)%N,b] + config[a,(b-1)%N]\n",
    "                dE = 2*nb*spin_i\n",
    "                \n",
    "                # if (dE < 0) or (np.rand() < np.exp(-dE*beta)):\t\n",
    "                #     spin_i *= -1 # obracanie spinu\n",
    "\n",
    "                if (dE < 0):\t\n",
    "                    spin_i *= -1 # obracanie spinu\n",
    "                elif np.random.random() < np.exp(-dE*beta):\n",
    "                    spin_i *= -1 # obracanie spinu\n",
    "\n",
    "                config[a, b] = spin_i\n",
    "        return config\n",
    "    \n",
    "    def GetAverageMagnetization(self, config):\n",
    "        return np.sum(config)/len(config)**2\n",
    "\n",
    "    def GetEnergy(self, config):\n",
    "        '''Energia układu w danym stanie, spiny jedynie oddziałyywują w pierwszej strefie kordynacyjnej'''\n",
    "        N = len(config)\n",
    "        energy = 0\n",
    "        lattice_energy = np.zeros(config.shape)\n",
    "        for i in range(len(config)):\n",
    "            for j in range(len(config)):\n",
    "                S = config[i,j]\n",
    "                nb = config[(i+1)%N, j] + config[i,(j+1)%N] + config[(i-1)%N, j] + config[i,(j-1)%N]\n",
    "                energy += -self.J*nb*S\n",
    "                lattice_energy[i,j] = -self.J*nb*S\n",
    "        return energy/4., lattice_energy \n",
    "\n",
    "    def IsConfigStable(self, config):\n",
    "        return np.abs(self.GetEnergy(config)[0]) == np.size(config)\n",
    "\n",
    "\n",
    "    def Simulate(self):   \n",
    "        ''' Faktyczna symulacja'''\n",
    "        config = 2*np.random.randint(2, size=(self.N, self.N))-1\n",
    "        fig, ax = plt.subplots(figsize=(5, 5), dpi=180)\n",
    "        self.init_config = config\n",
    "        \n",
    "        ims = []\n",
    "        for i in range(self.NIter):\n",
    "            self.MetropolisMove(config, self.N, 1.0/self.temp)\n",
    "            \n",
    "            ax.set_xticks([])\n",
    "            ax.set_yticks([])\n",
    "            im = ax.imshow(config, interpolation='nearest', cmap=cm.gray, animated=True)\n",
    "            ttl = plt.text(0.5, 1.01, \"SYMULACJA MODELU ISINGA 2D \\n Krok: \"+str(i)+\"  N=\"+str(self.N)+\"  T=\"+str(self.temp)+\"K\", \n",
    "                        horizontalalignment='center', \n",
    "                        verticalalignment='bottom', \n",
    "                        transform=ax.transAxes,\n",
    "                        fontsize='xx-large')\n",
    "\n",
    "            # if self.IsConfigStable(config):\n",
    "            #     break\n",
    "            \n",
    "            ims.append([im, ttl])\n",
    "\n",
    "        animation.ArtistAnimation(fig, ims, \n",
    "                                  interval=120, \n",
    "                                  blit=True,\n",
    "                                  repeat_delay=1000).save(\"Sims\\Ising\"+str(self.N)+\".gif\")\n",
    "        plt.close()\n",
    "\n",
    "    def GetNameOfSimulation(self):\n",
    "        return \"Ising\"+str(self.N)+\".gif\"\n",
    "#Funkcja pod wykresy E(T), M(T),specific heat, susceptibility"
   ]
  },
  {
   "cell_type": "code",
   "execution_count": 4,
   "metadata": {},
   "outputs": [
    {
     "name": "stderr",
     "output_type": "stream",
     "text": [
      "MovieWriter ffmpeg unavailable; using Pillow instead.\n"
     ]
    }
   ],
   "source": [
    "rm = Ising(N=10, NIter=int(10))\n",
    "rm.Simulate()"
   ]
  },
  {
   "cell_type": "code",
   "execution_count": 5,
   "metadata": {},
   "outputs": [
    {
     "data": {
      "text/plain": [
       "array([[-1, -1, -1, -1, -1, -1, -1, -1, -1, -1],\n",
       "       [-1, -1, -1, -1, -1, -1, -1, -1, -1, -1],\n",
       "       [-1, -1, -1, -1, -1, -1, -1, -1, -1, -1],\n",
       "       [-1, -1, -1, -1, -1, -1, -1, -1, -1, -1],\n",
       "       [-1, -1, -1, -1, -1, -1, -1, -1, -1, -1],\n",
       "       [-1, -1, -1, -1, -1, -1, -1, -1, -1, -1],\n",
       "       [-1, -1, -1, -1, -1, -1, -1, -1, -1, -1],\n",
       "       [-1, -1, -1, -1, -1, -1, -1, -1, -1, -1],\n",
       "       [-1, -1, -1, -1, -1, -1, -1, -1, -1, -1],\n",
       "       [-1, -1, -1, -1, -1, -1, -1, -1, -1, -1]])"
      ]
     },
     "execution_count": 5,
     "metadata": {},
     "output_type": "execute_result"
    }
   ],
   "source": [
    "lattice = rm.init_config\n",
    "lattice # jakiś błąd związny z alokowanie pamięci ?"
   ]
  },
  {
   "cell_type": "code",
   "execution_count": 6,
   "metadata": {},
   "outputs": [
    {
     "data": {
      "text/html": [
       "<img src=\"./Sims/Ising10.gif\"/>"
      ],
      "text/plain": [
       "<IPython.core.display.Image object>"
      ]
     },
     "execution_count": 6,
     "metadata": {},
     "output_type": "execute_result"
    }
   ],
   "source": [
    "from IPython.display import Image, clear_output\n",
    "clear_output(wait=True)\n",
    "Image(url='./Sims/'+rm.GetNameOfSimulation())  "
   ]
  },
  {
   "attachments": {},
   "cell_type": "markdown",
   "metadata": {},
   "source": [
    "### Wielkości fizyczne związane z Modelem Isinga"
   ]
  }
 ],
 "metadata": {
  "kernelspec": {
   "display_name": "base",
   "language": "python",
   "name": "python3"
  },
  "language_info": {
   "codemirror_mode": {
    "name": "ipython",
    "version": 3
   },
   "file_extension": ".py",
   "mimetype": "text/x-python",
   "name": "python",
   "nbconvert_exporter": "python",
   "pygments_lexer": "ipython3",
   "version": "3.9.12"
  },
  "orig_nbformat": 4,
  "vscode": {
   "interpreter": {
    "hash": "f09c37bc2119028be73e33a25ce42dd5fe835ccb3d3d879534f9c59f319984a4"
   }
  }
 },
 "nbformat": 4,
 "nbformat_minor": 2
}
