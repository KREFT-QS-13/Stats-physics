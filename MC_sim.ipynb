{
 "cells": [
  {
   "attachments": {},
   "cell_type": "markdown",
   "metadata": {},
   "source": [
    "## Model Isinga - symulacja Monte Carlo\n",
    "\n",
    "projekt zaliczeniowy"
   ]
  },
  {
   "attachments": {},
   "cell_type": "markdown",
   "metadata": {},
   "source": [
    "Założenia: brak"
   ]
  },
  {
   "cell_type": "code",
   "execution_count": 134,
   "metadata": {},
   "outputs": [],
   "source": [
    "import numpy as np\n",
    "import matplotlib.pyplot as plt\n",
    "import matplotlib.cm as cm\n",
    "import scienceplots\n",
    "import numba\n",
    "from numba import njit\n",
    "from scipy.ndimage import convolve, generate_binary_structure\n",
    "\n",
    "plt.style.use(['science','notebook', 'grid'])"
   ]
  },
  {
   "cell_type": "code",
   "execution_count": 135,
   "metadata": {},
   "outputs": [],
   "source": [
    "def get_random_lattice(N=20):\n",
    "    ''' generowanie stanu początkowego układu z N^2 spinami '''\n",
    "    \n",
    "    lattice = 2*np.random.randint(2, size=(N,N))-1\n",
    "    plt.imshow(lattice, interpolation='nearest', cmap=cm.gray)\n",
    "\n",
    "    return lattice, N"
   ]
  },
  {
   "cell_type": "code",
   "execution_count": 154,
   "metadata": {},
   "outputs": [
    {
     "data": {
      "image/png": "[encoded data removed]",
      "text/plain": [
       "<Figure size 576x432 with 1 Axes>"
      ]
     },
     "metadata": {
      "needs_background": "light"
     },
     "output_type": "display_data"
    }
   ],
   "source": [
    "lattice, N = get_random_lattice(3)"
   ]
  },
  {
   "cell_type": "code",
   "execution_count": 165,
   "metadata": {},
   "outputs": [
    {
     "data": {
      "text/plain": [
       "(1.0,\n",
       " array([[ 2., -2.,  2.],\n",
       "        [ 2., -2.,  2.],\n",
       "        [ 0.,  0.,  0.]]))"
      ]
     },
     "execution_count": 165,
     "metadata": {},
     "output_type": "execute_result"
    }
   ],
   "source": [
    "# def get_energy(lattice):\n",
    "#     kernal = generate_binary_structure(2,1)\n",
    "#     kernal[1][1] = False\n",
    "    \n",
    "#     return (-lattice*convolve(lattice, kernal, mode='constant', cval=0))\n",
    "\n",
    "# def get_total_energy(lattice):\n",
    "#     return get_energy(lattice).sum()/2.\n",
    "\n",
    "\n",
    "# utożsamiaamy płaszczyznę z torusem:\n",
    "def get_energy(state, J=1):\n",
    "    '''Energia układu w danym stanie, spiny jedynie oddziałyywują w pierwszej strefie kordynacyjnej'''\n",
    "    energy = 0\n",
    "    lattice_energy = np.zeros(state.shape)\n",
    "    for i in range(len(state)):\n",
    "        for j in range(len(state)):\n",
    "            S = state[i,j]\n",
    "            nb = state[(i+1)%N, j] + state[i,(j+1)%N] + state[(i-1)%N, j] + state[i,(j-1)%N]\n",
    "            energy += -J*nb*S\n",
    "            lattice_energy[i,j] = -J*nb*S\n",
    "    return energy/4., lattice_energy\n",
    "\n",
    "get_energy(lattice)"
   ]
  },
  {
   "cell_type": "code",
   "execution_count": 169,
   "metadata": {},
   "outputs": [],
   "source": [
    "def get_magnetization(state):\n",
    "    return np.sum(state)"
   ]
  },
  {
   "cell_type": "code",
   "execution_count": null,
   "metadata": {},
   "outputs": [],
   "source": [
    "#  Metropolis algorithm for simulation\n",
    "# goal: make an animation of MC ising model stabilization"
   ]
  }
 ],
 "metadata": {
  "kernelspec": {
   "display_name": "base",
   "language": "python",
   "name": "python3"
  },
  "language_info": {
   "codemirror_mode": {
    "name": "ipython",
    "version": 3
   },
   "file_extension": ".py",
   "mimetype": "text/x-python",
   "name": "python",
   "nbconvert_exporter": "python",
   "pygments_lexer": "ipython3",
   "version": "3.9.12"
  },
  "orig_nbformat": 4,
  "vscode": {
   "interpreter": {
    "hash": "f09c37bc2119028be73e33a25ce42dd5fe835ccb3d3d879534f9c59f319984a4"
   }
  }
 },
 "nbformat": 4,
 "nbformat_minor": 2
}
